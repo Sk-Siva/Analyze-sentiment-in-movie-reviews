{
 "cells": [
  {
   "cell_type": "code",
   "execution_count": 1,
   "id": "a6afa5f8",
   "metadata": {},
   "outputs": [],
   "source": [
    "import pandas as pd\n",
    "import nltk\n",
    "from nltk.corpus import movie_reviews\n",
    "from nltk.tokenize import word_tokenize\n",
    "from nltk.corpus import stopwords\n",
    "from sklearn.feature_extraction.text import TfidfVectorizer\n",
    "from sklearn.cluster import KMeans\n",
    "import matplotlib.pyplot as plt\n",
    "import seaborn as sns"
   ]
  },
  {
   "cell_type": "code",
   "execution_count": 2,
   "id": "3c7c60f7",
   "metadata": {},
   "outputs": [
    {
     "name": "stderr",
     "output_type": "stream",
     "text": [
      "[nltk_data] Downloading package movie_reviews to\n",
      "[nltk_data]     C:\\Users\\Siva\\AppData\\Roaming\\nltk_data...\n",
      "[nltk_data]   Package movie_reviews is already up-to-date!\n"
     ]
    },
    {
     "data": {
      "text/plain": [
       "True"
      ]
     },
     "execution_count": 2,
     "metadata": {},
     "output_type": "execute_result"
    }
   ],
   "source": [
    "nltk.download('movie_reviews')"
   ]
  },
  {
   "cell_type": "code",
   "execution_count": 3,
   "id": "485c85af",
   "metadata": {},
   "outputs": [],
   "source": [
    "documents = [(list(movie_reviews.words(fileid)), category)\n",
    "             for category in movie_reviews.categories()\n",
    "             for fileid in movie_reviews.fileids(category)]"
   ]
  },
  {
   "cell_type": "code",
   "execution_count": 4,
   "id": "cf763499",
   "metadata": {},
   "outputs": [
    {
     "name": "stdout",
     "output_type": "stream",
     "text": [
      "                                               words category\n",
      "0  [plot, :, two, teen, couples, go, to, a, churc...      neg\n",
      "1  [the, happy, bastard, ', s, quick, movie, revi...      neg\n",
      "2  [it, is, movies, like, these, that, make, a, j...      neg\n",
      "3  [\", quest, for, camelot, \", is, warner, bros, ...      neg\n",
      "4  [synopsis, :, a, mentally, unstable, man, unde...      neg\n",
      "                                                  words category\n",
      "1995  [wow, !, what, a, movie, ., it, ', s, everythi...      pos\n",
      "1996  [richard, gere, can, be, a, commanding, actor,...      pos\n",
      "1997  [glory, --, starring, matthew, broderick, ,, d...      pos\n",
      "1998  [steven, spielberg, ', s, second, epic, film, ...      pos\n",
      "1999  [truman, (, \", true, -, man, \", ), burbank, is...      pos\n"
     ]
    }
   ],
   "source": [
    "df = pd.DataFrame(documents, columns=['words', 'category'])\n",
    "print(df.head())\n",
    "print(df.tail())"
   ]
  },
  {
   "cell_type": "code",
   "execution_count": 5,
   "id": "6da88f10",
   "metadata": {},
   "outputs": [],
   "source": [
    "stop_words = set(stopwords.words('english'))\n",
    "ps = nltk.PorterStemmer()"
   ]
  },
  {
   "cell_type": "code",
   "execution_count": 6,
   "id": "b73b8458",
   "metadata": {},
   "outputs": [],
   "source": [
    "def preprocess_text(words):\n",
    "    return [ps.stem(word.lower()) for word in words if word.isalpha() and word.lower() not in stop_words]"
   ]
  },
  {
   "cell_type": "code",
   "execution_count": 8,
   "id": "d94fbf79",
   "metadata": {},
   "outputs": [],
   "source": [
    "df['processed_words'] = df['words'].apply(preprocess_text)\n",
    "df['processed_text'] = df['processed_words'].apply(lambda x: ' '.join(x))"
   ]
  },
  {
   "cell_type": "code",
   "execution_count": 9,
   "id": "6f970988",
   "metadata": {},
   "outputs": [],
   "source": [
    "vectorizer = TfidfVectorizer(max_features=1000)\n",
    "X = vectorizer.fit_transform(df['processed_text']).toarray()"
   ]
  },
  {
   "cell_type": "code",
   "execution_count": 10,
   "id": "2ea323fc",
   "metadata": {},
   "outputs": [],
   "source": [
    "num_clusters = 5\n",
    "kmeans = KMeans(n_clusters=num_clusters, random_state=42)\n",
    "df['cluster'] = kmeans.fit_predict(X)"
   ]
  },
  {
   "cell_type": "code",
   "execution_count": 11,
   "id": "7fe57c82",
   "metadata": {},
   "outputs": [
    {
     "name": "stdout",
     "output_type": "stream",
     "text": [
      "Customer Segmentation Results:\n",
      "                                      processed_text  cluster\n",
      "0  plot two teen coupl go church parti drink driv...        4\n",
      "1  happi bastard quick movi review damn bug got h...        4\n",
      "2  movi like make jade movi viewer thank invent t...        2\n",
      "3  quest camelot warner bro first featur length f...        3\n",
      "4  synopsi mental unstabl man undergo psychothera...        4\n"
     ]
    }
   ],
   "source": [
    "print(\"Customer Segmentation Results:\")\n",
    "print(df[['processed_text', 'cluster']].head())"
   ]
  },
  {
   "cell_type": "code",
   "execution_count": 12,
   "id": "bc0d15e7",
   "metadata": {},
   "outputs": [
    {
     "data": {
      "image/png": "[encoded data removed]",
      "text/plain": [
       "<Figure size 1000x600 with 1 Axes>"
      ]
     },
     "metadata": {},
     "output_type": "display_data"
    }
   ],
   "source": [
    "plt.figure(figsize=(10, 6))\n",
    "sns.countplot(x='category', data=df)\n",
    "plt.title('Distribution of Sentiments in Movie Reviews')\n",
    "plt.xlabel('Sentiment')\n",
    "plt.ylabel('Count')\n",
    "plt.show()"
   ]
  }
 ],
 "metadata": {
  "kernelspec": {
   "display_name": "Python 3 (ipykernel)",
   "language": "python",
   "name": "python3"
  },
  "language_info": {
   "codemirror_mode": {
    "name": "ipython",
    "version": 3
   },
   "file_extension": ".py",
   "mimetype": "text/x-python",
   "name": "python",
   "nbconvert_exporter": "python",
   "pygments_lexer": "ipython3",
   "version": "3.9.13"
  }
 },
 "nbformat": 4,
 "nbformat_minor": 5
}
